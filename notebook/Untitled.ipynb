{
 "cells": [
  {
   "cell_type": "code",
   "execution_count": 1,
   "metadata": {},
   "outputs": [],
   "source": [
    "import numpy as np\n",
    "import pandas as pd"
   ]
  },
  {
   "cell_type": "markdown",
   "metadata": {},
   "source": [
    "# EDA\n",
    "\n",
    "Load the files and find with growing price and Institutional grows"
   ]
  },
  {
   "cell_type": "code",
   "execution_count": 6,
   "metadata": {},
   "outputs": [],
   "source": [
    "#import glob\n",
    "import glob\n",
    "import path"
   ]
  },
  {
   "cell_type": "code",
   "execution_count": 7,
   "metadata": {},
   "outputs": [],
   "source": [
    "DATA_DIR = '../data/'"
   ]
  },
  {
   "cell_type": "code",
   "execution_count": 14,
   "metadata": {},
   "outputs": [],
   "source": [
    "import json"
   ]
  },
  {
   "cell_type": "code",
   "execution_count": 27,
   "metadata": {},
   "outputs": [],
   "source": [
    "stat = json.load(open('../db/statisticCount.json'))"
   ]
  },
  {
   "cell_type": "code",
   "execution_count": 34,
   "metadata": {},
   "outputs": [],
   "source": [
    "from matplotlib import pyplot as plt\n"
   ]
  },
  {
   "cell_type": "code",
   "execution_count": 35,
   "metadata": {},
   "outputs": [],
   "source": [
    "data = sorted(stat.items(), key= lambda x: x[1], reverse=True)"
   ]
  },
  {
   "cell_type": "code",
   "execution_count": 39,
   "metadata": {},
   "outputs": [
    {
     "name": "stdout",
     "output_type": "stream",
     "text": [
      "71\n"
     ]
    }
   ],
   "source": [
    "print(len(data))"
   ]
  },
  {
   "cell_type": "code",
   "execution_count": 38,
   "metadata": {},
   "outputs": [
    {
     "data": {
      "text/plain": [
       "<matplotlib.collections.PathCollection at 0x1189de940>"
      ]
     },
     "execution_count": 38,
     "metadata": {},
     "output_type": "execute_result"
    },
    {
     "data": {
      "image/png": "[encoded data removed]",
      "text/plain": [
       "<Figure size 432x288 with 1 Axes>"
      ]
     },
     "metadata": {
      "needs_background": "light"
     },
     "output_type": "display_data"
    }
   ],
   "source": [
    "plt.scatter(range(0, len(data)), [x[1] for x in data])"
   ]
  },
  {
   "cell_type": "code",
   "execution_count": 32,
   "metadata": {},
   "outputs": [
    {
     "data": {
      "text/plain": [
       "[('52W Range', 247690),\n",
       " ('Volatility', 247690),\n",
       " ('Optionable', 247690),\n",
       " ('Shortable', 247690),\n",
       " ('Volume', 247644),\n",
       " ('Price', 247643),\n",
       " ('Perf YTD', 247642),\n",
       " ('52W High', 247642),\n",
       " ('52W Low', 247642),\n",
       " ('ATR', 247642),\n",
       " ('Prev Close', 247642),\n",
       " ('Avg Volume', 247642),\n",
       " ('SMA20', 247642),\n",
       " ('SMA50', 247642),\n",
       " ('SMA200', 247642),\n",
       " ('Change', 247642),\n",
       " ('Perf Week', 247523),\n",
       " ('Rel Volume', 247501),\n",
       " ('Perf Month', 246384),\n",
       " ('RSI (14)', 244838),\n",
       " ('Perf Quarter', 243416),\n",
       " ('Perf Half Y', 240100),\n",
       " ('Book/sh', 239578),\n",
       " ('Shs Outstand', 239377),\n",
       " ('Market Cap', 239336),\n",
       " ('EPS (ttm)', 238176),\n",
       " ('Short Ratio', 236826),\n",
       " ('Perf Year', 231627),\n",
       " ('P/B', 226473),\n",
       " ('Sales', 221828),\n",
       " ('Insider Own', 221169),\n",
       " ('P/S', 220542),\n",
       " ('Sales Q/Q', 219850),\n",
       " ('Inst Own', 219796),\n",
       " ('Shs Float', 218436),\n",
       " ('Short Float', 215580),\n",
       " ('Employees', 211604),\n",
       " ('EPS this Y', 208509),\n",
       " ('EPS Q/Q', 207869),\n",
       " ('Income', 206009),\n",
       " ('Earnings', 204834),\n",
       " ('Target Price', 198935),\n",
       " ('Cash/sh', 198681),\n",
       " ('P/C', 196853),\n",
       " ('Debt/Eq', 194129),\n",
       " ('LT Debt/Eq', 194129),\n",
       " ('Inst Trans', 192657),\n",
       " ('ROI', 191784),\n",
       " ('ROA', 188695),\n",
       " ('ROE', 186528),\n",
       " ('EPS past 5Y', 185785),\n",
       " ('Beta', 177922),\n",
       " ('EPS next Y', 177763),\n",
       " ('EPS next Q', 177011),\n",
       " ('Insider Trans', 174427),\n",
       " ('Sales past 5Y', 173441),\n",
       " ('Oper. Margin', 165806),\n",
       " ('Current Ratio', 165210),\n",
       " ('Profit Margin', 165084),\n",
       " ('Quick Ratio', 162202),\n",
       " ('Gross Margin', 156165),\n",
       " ('Recom', 151408),\n",
       " ('EPS next 5Y', 145156),\n",
       " ('P/E', 143744),\n",
       " ('Forward P/E', 141944),\n",
       " ('Dividend', 121941),\n",
       " ('Dividend %', 121941),\n",
       " ('Payout', 119575),\n",
       " ('P/FCF', 111620),\n",
       " ('PEG', 99949),\n",
       " ('Index', 22996)]"
      ]
     },
     "execution_count": 32,
     "metadata": {},
     "output_type": "execute_result"
    }
   ],
   "source": []
  },
  {
   "cell_type": "code",
   "execution_count": 12,
   "metadata": {},
   "outputs": [
    {
     "name": "stdout",
     "output_type": "stream",
     "text": [
      "../data/20190502/r/REDU.json\n"
     ]
    }
   ],
   "source": [
    "pa = []\n",
    "for dr in glob.iglob(DATA_DIR + '/*/*/*'):\n",
    "    print(dr)\n",
    "    JS\n",
    "    break"
   ]
  },
  {
   "cell_type": "code",
   "execution_count": null,
   "metadata": {},
   "outputs": [],
   "source": []
  }
 ],
 "metadata": {
  "kernelspec": {
   "display_name": "Python 3",
   "language": "python",
   "name": "python3"
  },
  "language_info": {
   "codemirror_mode": {
    "name": "ipython",
    "version": 3
   },
   "file_extension": ".py",
   "mimetype": "text/x-python",
   "name": "python",
   "nbconvert_exporter": "python",
   "pygments_lexer": "ipython3",
   "version": "3.6.8"
  }
 },
 "nbformat": 4,
 "nbformat_minor": 2
}
